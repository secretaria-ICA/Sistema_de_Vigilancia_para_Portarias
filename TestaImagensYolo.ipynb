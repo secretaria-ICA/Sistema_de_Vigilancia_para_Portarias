{
  "nbformat": 4,
  "nbformat_minor": 0,
  "metadata": {
    "colab": {
      "name": "TestaImagensYolo.ipynb",
      "private_outputs": true,
      "provenance": [],
      "collapsed_sections": [],
      "include_colab_link": true
    },
    "kernelspec": {
      "name": "python3",
      "display_name": "Python 3"
    },
    "language_info": {
      "name": "python"
    }
  },
  "cells": [
    {
      "cell_type": "markdown",
      "metadata": {
        "id": "view-in-github",
        "colab_type": "text"
      },
      "source": [
        "<a href=\"https://colab.research.google.com/github/paulojrapuc/TCC/blob/main/TestaImagensYolo.ipynb\" target=\"_parent\"><img src=\"https://colab.research.google.com/assets/colab-badge.svg\" alt=\"Open In Colab\"/></a>"
      ]
    },
    {
      "cell_type": "code",
      "metadata": {
        "id": "iazL3h8OEYMq"
      },
      "source": [
        "#@title\n",
        "from google.colab import drive\n",
        "drive.mount(\"/content/drive\")"
      ],
      "execution_count": null,
      "outputs": []
    },
    {
      "cell_type": "code",
      "metadata": {
        "id": "MTRcKk9-P0Ds"
      },
      "source": [
        "!pip install opencv-python==4.5.3.56"
      ],
      "execution_count": null,
      "outputs": []
    },
    {
      "cell_type": "code",
      "metadata": {
        "id": "RSRYU8srPTNI"
      },
      "source": [
        "import cv2\n",
        "import numpy as np\n",
        "import matplotlib.pyplot as plt\n",
        "import os"
      ],
      "execution_count": null,
      "outputs": []
    },
    {
      "cell_type": "code",
      "metadata": {
        "id": "Xx6nrwbjN-B6"
      },
      "source": [
        "%cd '/content/drive/My Drive/tcc/'\n",
        "!ls"
      ],
      "execution_count": null,
      "outputs": []
    },
    {
      "cell_type": "code",
      "metadata": {
        "id": "NIsO9cmtOJfI"
      },
      "source": [
        "labelsPath = os.path.join(\"/content/drive/MyDrive/tcc/person2/classes.names\")\n",
        "LABELS = open(labelsPath).read().strip().split(\"\\n\")\n",
        "print(LABELS)"
      ],
      "execution_count": null,
      "outputs": []
    },
    {
      "cell_type": "code",
      "metadata": {
        "id": "tNHMPqVKOQTG"
      },
      "source": [
        "net = cv2.dnn.readNetFromDarknet(\"/content/drive/MyDrive/tcc/darknet/cfg/yolov4_custom.cfg\" , \"/content/drive/MyDrive/tcc/backup/yolov4_custom_final.weights\")"
      ],
      "execution_count": null,
      "outputs": []
    },
    {
      "cell_type": "code",
      "metadata": {
        "id": "YQa2zFT5OQ4I"
      },
      "source": [
        "def predict(image):\n",
        "\n",
        "    # initialize a list of colors to represent each possible class label\n",
        "    np.random.seed(42)\n",
        "    COLORS = np.random.randint(0, 255, size=(len(LABELS), 2), dtype=\"uint8\")\n",
        "    print(COLORS)\n",
        "    (H, W) = image.shape[:2]\n",
        "\n",
        "    # determine only the \"ouput\" layers name which we need from YOLO\n",
        "    ln = net.getLayerNames()\n",
        "    ln = [ln[i[0] - 1] for i in net.getUnconnectedOutLayers()]\n",
        "\n",
        "    # construct a blob from the input image and then perform a forward pass of the YOLO object detector,\n",
        "    # giving us our bounding boxes and associated probabilities\n",
        "    blob = cv2.dnn.blobFromImage(image, 1 / 255.0, (416, 416), swapRB=True, crop=False)\n",
        "    net.setInput(blob)\n",
        "    layerOutputs = net.forward(ln)\n",
        "\n",
        "    boxes = []\n",
        "    confidences = []\n",
        "    classIDs = []\n",
        "    threshold = 0.2\n",
        "\n",
        "    # loop over each of the layer outputs\n",
        "    for output in layerOutputs:\n",
        "        # loop over each of the detections\n",
        "        for detection in output:\n",
        "            # extract the class ID and confidence (i.e., probability) of\n",
        "            # the current object detection\n",
        "            scores = detection[5:]\n",
        "            classID = np.argmax(scores)\n",
        "            confidence = scores[classID]\n",
        "\n",
        "            # filter out weak predictions by ensuring the detected\n",
        "            # probability is greater than the minimum probability\n",
        "            # confidence type=float, default=0.5\n",
        "            if confidence > threshold:\n",
        "                # scale the bounding box coordinates back relative to the\n",
        "                # size of the image, keeping in mind that YOLO actually\n",
        "                # returns the center (x, y)-coordinates of the bounding\n",
        "                # box followed by the boxes' width and height\n",
        "                box = detection[0:4] * np.array([W, H, W, H])\n",
        "                (centerX, centerY, width, height) = box.astype(\"int\")\n",
        "\n",
        "                # use the center (x, y)-coordinates to derive the top and\n",
        "                # and left corner of the bounding box\n",
        "                x = int(centerX - (width / 2))\n",
        "                y = int(centerY - (height / 2))\n",
        "\n",
        "                # update our list of bounding box coordinates, confidences,\n",
        "                # and class IDs\n",
        "                boxes.append([x, y, int(width), int(height)])\n",
        "                confidences.append(float(confidence))\n",
        "                classIDs.append(classID)\n",
        "\n",
        "    # apply non-maxima suppression to suppress weak, overlapping bounding boxes\n",
        "    idxs = cv2.dnn.NMSBoxes(boxes, confidences, threshold, 0.1)\n",
        "\n",
        "    # ensure at least one detection exists\n",
        "    if len(idxs) > 0:\n",
        "        # loop over the indexes we are keeping\n",
        "        for i in idxs.flatten():\n",
        "            # extract the bounding box coordinates\n",
        "            (x, y) = (boxes[i][0], boxes[i][1])\n",
        "            (w, h) = (boxes[i][2], boxes[i][3])\n",
        "\n",
        "            # draw a bounding box rectangle and label on the image\n",
        "            color = (255,0,0)\n",
        "            cv2.rectangle(image, (x, y), (x + w, y + h), color, 4)\n",
        "            text = \"{}\".format(LABELS[classIDs[i]], confidences[i])\n",
        "            cv2.putText(image, text, (x +10, y - 10), cv2.FONT_HERSHEY_SIMPLEX,\n",
        "                    1, color, 2)\n",
        "    return image"
      ],
      "execution_count": null,
      "outputs": []
    },
    {
      "cell_type": "code",
      "metadata": {
        "id": "7I-CjDl9OVmV"
      },
      "source": [
        "def display_img(img,cmap=None):\n",
        "    fig = plt.figure(figsize = (12,12))\n",
        "    plt.axis(True)\n",
        "    ax = fig.add_subplot(111)\n",
        "    ax.imshow(img,cmap)"
      ],
      "execution_count": null,
      "outputs": []
    },
    {
      "cell_type": "code",
      "metadata": {
        "id": "ryxKmEAjOX_s"
      },
      "source": [
        "img = cv2.imread(\"/content/drive/MyDrive/tcc/person2/photo.jpg\")\n",
        "img = cv2.cvtColor(img,cv2.COLOR_BGR2RGB)\n",
        "display_img(predict(img))"
      ],
      "execution_count": null,
      "outputs": []
    },
    {
      "cell_type": "code",
      "metadata": {
        "id": "T1ILKrRdOb9v"
      },
      "source": [
        "img = cv2.imread(\"/content/drive/MyDrive/tcc/person2/5539a3d3-5d85-4c04-93d9-977c9beba21b.jpg\")\n",
        "img = cv2.cvtColor(img,cv2.COLOR_BGR2RGB)\n",
        "display_img(predict(img))"
      ],
      "execution_count": null,
      "outputs": []
    },
    {
      "cell_type": "code",
      "metadata": {
        "id": "WfmDATsgOe1V"
      },
      "source": [
        "img = cv2.imread(\"/content/drive/MyDrive/tcc/person2/IMG_7386.jpg\")\n",
        "img = cv2.cvtColor(img,cv2.COLOR_BGR2RGB)\n",
        "display_img(predict(img))"
      ],
      "execution_count": null,
      "outputs": []
    },
    {
      "cell_type": "code",
      "metadata": {
        "id": "0H2Dg007SDa2"
      },
      "source": [
        "img = cv2.imread(\"/content/drive/MyDrive/tcc/person2/cachorroPreto.jpg\")\n",
        "img = cv2.cvtColor(img,cv2.COLOR_BGR2RGB)\n",
        "display_img(predict(img))"
      ],
      "execution_count": null,
      "outputs": []
    },
    {
      "cell_type": "code",
      "metadata": {
        "id": "99hqv8Y_Tev4"
      },
      "source": [
        "img = cv2.imread(\"/content/drive/MyDrive/tcc/person2/caes.jpg\")\n",
        "img = cv2.cvtColor(img,cv2.COLOR_BGR2RGB)\n",
        "display_img(predict(img))"
      ],
      "execution_count": null,
      "outputs": []
    },
    {
      "cell_type": "code",
      "metadata": {
        "id": "OwkxBzkKU00O"
      },
      "source": [
        "img = cv2.imread(\"/content/drive/MyDrive/tcc/person2/gatos.jpg\")\n",
        "img = cv2.cvtColor(img,cv2.COLOR_BGR2RGB)\n",
        "display_img(predict(img))"
      ],
      "execution_count": null,
      "outputs": []
    },
    {
      "cell_type": "code",
      "metadata": {
        "id": "afRjypUzVbLC"
      },
      "source": [
        "img = cv2.imread(\"/content/drive/MyDrive/tcc/person2/bebe.jpg\")\n",
        "img = cv2.cvtColor(img,cv2.COLOR_BGR2RGB)\n",
        "display_img(predict(img))"
      ],
      "execution_count": null,
      "outputs": []
    },
    {
      "cell_type": "code",
      "metadata": {
        "id": "xBAVfgLXVv-j",
        "collapsed": true
      },
      "source": [
        "img = cv2.imread(\"/content/drive/MyDrive/tcc/person2/IMG_1904.jpg\")\n",
        "img = cv2.cvtColor(img,cv2.COLOR_BGR2RGB)\n",
        "display_img(predict(img))"
      ],
      "execution_count": null,
      "outputs": []
    },
    {
      "cell_type": "code",
      "metadata": {
        "id": "Du0Wa-FIUzJn"
      },
      "source": [
        ""
      ],
      "execution_count": null,
      "outputs": []
    }
  ]
}